{
 "cells": [
  {
   "cell_type": "markdown",
   "metadata": {},
   "source": [
    "# Data Preparation\n",
    "\n",
    "## … to be developed\n",
    "\n",
    "Quarto enables you to weave together content and executable code into a finished document. To learn more about Quarto see <https://quarto.org>.\n",
    "\n",
    "## Running Code\n",
    "\n",
    "When you click the **Render** button a document will be generated that includes both content and the output of embedded code. You can embed code like this:"
   ],
   "id": "69c2ba00-4479-45b9-9d80-828c296e4da6"
  },
  {
   "cell_type": "code",
   "execution_count": null,
   "metadata": {},
   "outputs": [
    {
     "output_type": "stream",
     "name": "stdout",
     "text": [
      "[1] 2"
     ]
    }
   ],
   "source": [
    "1 + 1\n"
   ],
   "id": "12f434f6-a123-4947-a23f-fa51dc2a7d82"
  },
  {
   "cell_type": "markdown",
   "metadata": {},
   "source": [
    "You can add options to executable code like this"
   ],
   "id": "b7019c3d-ccd4-41fb-a602-3ef9099477bc"
  },
  {
   "cell_type": "code",
   "execution_count": null,
   "metadata": {},
   "outputs": [
    {
     "output_type": "stream",
     "name": "stdout",
     "text": [
      "[1] 4"
     ]
    }
   ],
   "source": [
    "2 * 2\n"
   ],
   "id": "7241cc46-1819-49ae-afd8-894faa4056ac"
  },
  {
   "cell_type": "markdown",
   "metadata": {},
   "source": [
    "The `echo: false` option disables the printing of code (only output is displayed)."
   ],
   "id": "1599e5f2-6eb2-4492-9b14-fd6156d8c753"
  }
 ],
 "nbformat": 4,
 "nbformat_minor": 5,
 "metadata": {}
}
