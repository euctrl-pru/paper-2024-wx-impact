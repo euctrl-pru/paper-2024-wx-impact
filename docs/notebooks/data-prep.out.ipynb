{
 "cells": [
  {
   "cell_type": "markdown",
   "metadata": {},
   "source": [
    "# Data Preparation\n",
    "\n",
    "## … to be developed\n",
    "\n",
    "Quarto enables you to weave together content and executable code into a finished document. To learn more about Quarto see <https://quarto.org>.\n",
    "\n",
    "## Running Code\n",
    "\n",
    "When you click the **Render** button a document will be generated that includes both content and the output of embedded code. You can embed code like this:"
   ],
   "id": "bca2fb93-4753-4898-b184-3245ec62af73"
  },
  {
   "cell_type": "code",
   "execution_count": null,
   "metadata": {},
   "outputs": [
    {
     "output_type": "stream",
     "name": "stdout",
     "text": [
      "[1] 2"
     ]
    }
   ],
   "source": [
    "1 + 1\n"
   ],
   "id": "e5aaa1c6-095b-4c7e-923b-14423d11ce7e"
  },
  {
   "cell_type": "markdown",
   "metadata": {},
   "source": [
    "You can add options to executable code like this"
   ],
   "id": "9b2bbf93-a62f-48b7-b91d-f2f80e1b8339"
  },
  {
   "cell_type": "code",
   "execution_count": null,
   "metadata": {},
   "outputs": [
    {
     "output_type": "stream",
     "name": "stdout",
     "text": [
      "[1] 4"
     ]
    }
   ],
   "source": [
    "2 * 2\n"
   ],
   "id": "ff5d6338-e0e1-40cc-892d-e154a3c63c4d"
  },
  {
   "cell_type": "markdown",
   "metadata": {},
   "source": [
    "The `echo: false` option disables the printing of code (only output is displayed)."
   ],
   "id": "ae9571fa-4d8f-4d35-9bab-b8b0d324973a"
  }
 ],
 "nbformat": 4,
 "nbformat_minor": 5,
 "metadata": {}
}
