{
 "cells": [
  {
   "cell_type": "markdown",
   "metadata": {},
   "source": [
    "# Data Preparation\n",
    "\n",
    "## … to be developed\n",
    "\n",
    "Quarto enables you to weave together content and executable code into a finished document. To learn more about Quarto see <https://quarto.org>.\n",
    "\n",
    "Force some changes to test gh-pages.\n",
    "\n",
    "## Running Code\n",
    "\n",
    "When you click the **Render** button a document will be generated that includes both content and the output of embedded code. You can embed code like this:"
   ],
   "id": "ffcc6a35-b795-4f77-b3fe-1b3a0e710ceb"
  },
  {
   "cell_type": "code",
   "execution_count": null,
   "metadata": {},
   "outputs": [
    {
     "output_type": "stream",
     "name": "stdout",
     "text": [
      "[1] 2"
     ]
    }
   ],
   "source": [
    "1 + 1\n"
   ],
   "id": "ab3d77a0-a829-4937-aa6d-290d0fda5da8"
  },
  {
   "cell_type": "markdown",
   "metadata": {},
   "source": [
    "You can add options to executable code like this"
   ],
   "id": "853a6c10-c248-413b-9fe7-0b35056d902e"
  },
  {
   "cell_type": "code",
   "execution_count": null,
   "metadata": {},
   "outputs": [
    {
     "output_type": "stream",
     "name": "stdout",
     "text": [
      "[1] 4"
     ]
    }
   ],
   "source": [
    "2 * 2\n"
   ],
   "id": "898f234a-c383-46c0-9633-281a76bfcea0"
  },
  {
   "cell_type": "markdown",
   "metadata": {},
   "source": [
    "The `echo: false` option disables the printing of code (only output is displayed)."
   ],
   "id": "ab1c2284-c2a6-4d5e-8d80-da58b8ad65f9"
  }
 ],
 "nbformat": 4,
 "nbformat_minor": 5,
 "metadata": {}
}
